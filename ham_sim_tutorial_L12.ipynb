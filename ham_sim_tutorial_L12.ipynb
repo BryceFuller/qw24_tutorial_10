{
 "cells": [
  {
   "cell_type": "markdown",
   "metadata": {},
   "source": [
    "# Trotterized Hamiltonian simulation with `qiskit` and `qiskit-ibm-runtime`\n",
    "\n",
    "In this notebook, you will learn how to use a  **Multi-Product Formula (MPF)** to achieve a lower Trotter error on our observable compared to the one incurred by the deepest Trotter circuit that we will actually execute.\n",
    "You will do so by working through the steps of a **Qiskit pattern**:\n",
    "\n",
    "- **Step 1: Map to quantum circuits**\n",
    "    - Initialize our problem's Hamiltonian\n",
    "    - Generate a Trotter circuit\n",
    "- **Step 2: Optimize the problem**\n",
    "    - Transpile our circuits\n",
    "- **Step 3: Execute experiments**\n",
    "    - Use the `Estimator` primitive from qiskit runtime to compute our circuit's expectation values\n",
    "        - Run local simulation\n",
    "- **Step 4: Postprocess**\n",
    "    - Inspect our results"
   ]
  },
  {
   "cell_type": "markdown",
   "metadata": {},
   "source": [
    "## Step 1: Map to quantum problem\n",
    "\n",
    "### 1a: Setting up our Hamiltonian\n",
    "\n",
    "We use the XXZ model on a line of 12 sites:\n",
    "\n",
    "$$\n",
    "\\hat{\\mathcal{H}}_{XXZ} = \\sum_{i=1}^{L-1} J_{i,(i+1)}\\left(X_i X_{(i+1)}+Y_i Y_{(i+1)}+ 2\\cdot Z_i Z_{(i+1)} \\right) \\, ,\n",
    "$$\n",
    "\n",
    "where $J_{i,(i+1)}$ is a random coefficient corresponding to edge $(i, i+1)$"
   ]
  },
  {
   "cell_type": "code",
   "execution_count": 1,
   "metadata": {},
   "outputs": [
    {
     "data": {
      "image/png": "[encoded data removed]",
      "text/plain": [
       "<PIL.PngImagePlugin.PngImageFile image mode=RGBA size=1931x59>"
      ]
     },
     "execution_count": 1,
     "metadata": {},
     "output_type": "execute_result"
    }
   ],
   "source": [
    "from qiskit.transpiler import CouplingMap\n",
    "from rustworkx.visualization import graphviz_draw\n",
    "\n",
    "# L = length of our 1D spin chain\n",
    "L = 12\n",
    "\n",
    "# Generate the edge-list for this spin-chain\n",
    "elist = [(i-1,i) for i in range(1, L)]\n",
    "# Generate an edge-coloring so we can make hw-efficient circuits\n",
    "even_edges  = elist[::2] \n",
    "odd_edges = elist[1::2]\n",
    "\n",
    "# Instantiate a CouplingMap object\n",
    "coupling_map = CouplingMap(elist)\n",
    "graphviz_draw(coupling_map.graph, method=\"circo\")"
   ]
  },
  {
   "cell_type": "markdown",
   "metadata": {},
   "source": [
    "#### Generate the hamiltonian we will evolve by"
   ]
  },
  {
   "cell_type": "code",
   "execution_count": 2,
   "metadata": {},
   "outputs": [
    {
     "name": "stdout",
     "output_type": "stream",
     "text": [
      "SparsePauliOp(['IIIIIIIIIIII', 'IIIIIIIIIIXX', 'IIIIIIIIIIYY', 'IIIIIIIIIIZZ', 'IIIIIIIIXXII', 'IIIIIIIIYYII', 'IIIIIIIIZZII', 'IIIIIIXXIIII', 'IIIIIIYYIIII', 'IIIIIIZZIIII', 'IIIIXXIIIIII', 'IIIIYYIIIIII', 'IIIIZZIIIIII', 'IIXXIIIIIIII', 'IIYYIIIIIIII', 'IIZZIIIIIIII', 'XXIIIIIIIIII', 'YYIIIIIIIIII', 'ZZIIIIIIIIII', 'IIIIIIIIIXXI', 'IIIIIIIIIYYI', 'IIIIIIIIIZZI', 'IIIIIIIXXIII', 'IIIIIIIYYIII', 'IIIIIIIZZIII', 'IIIIIXXIIIII', 'IIIIIYYIIIII', 'IIIIIZZIIIII', 'IIIXXIIIIIII', 'IIIYYIIIIIII', 'IIIZZIIIIIII', 'IXXIIIIIIIII', 'IYYIIIIIIIII', 'IZZIIIIIIIII'],\n",
      "              coeffs=[1.        +0.j, 0.52440675+0.j, 0.52440675+0.j, 1.0488135 +0.j,\n",
      " 0.60759468+0.j, 0.60759468+0.j, 1.21518937+0.j, 0.55138169+0.j,\n",
      " 0.55138169+0.j, 1.10276338+0.j, 0.52244159+0.j, 0.52244159+0.j,\n",
      " 1.04488318+0.j, 0.4618274 +0.j, 0.4618274 +0.j, 0.9236548 +0.j,\n",
      " 0.57294706+0.j, 0.57294706+0.j, 1.14589411+0.j, 0.46879361+0.j,\n",
      " 0.46879361+0.j, 0.93758721+0.j, 0.6958865 +0.j, 0.6958865 +0.j,\n",
      " 1.391773  +0.j, 0.73183138+0.j, 0.73183138+0.j, 1.46366276+0.j,\n",
      " 0.44172076+0.j, 0.44172076+0.j, 0.88344152+0.j, 0.64586252+0.j,\n",
      " 0.64586252+0.j, 1.29172504+0.j])\n"
     ]
    }
   ],
   "source": [
    "import numpy as np\n",
    "from qiskit.quantum_info import SparsePauliOp, Pauli\n",
    "\n",
    "# Genereate random coefficients for our XXZ Hamiltonian\n",
    "np.random.seed(0)\n",
    "Js = np.random.rand(L-1) + 0.5*np.ones(L-1)\n",
    "Js_fixed = np.zeros(L-1)\n",
    "\n",
    "hamiltonian = SparsePauliOp(Pauli('I'*L))\n",
    "for i, edge in enumerate(even_edges + odd_edges):\n",
    "    Js_fixed[edge[0]] = Js[i]\n",
    "    hamiltonian += SparsePauliOp.from_sparse_list(\n",
    "    [(\"XX\", (edge), Js[i] /2),\n",
    "     (\"YY\", (edge), Js[i] /2),\n",
    "     (\"ZZ\", (edge), Js[i] )], \n",
    "    num_qubits=L)\n",
    "\n",
    "print(hamiltonian)"
   ]
  },
  {
   "cell_type": "markdown",
   "metadata": {},
   "source": [
    "#### Define the observable we want to estimate"
   ]
  },
  {
   "cell_type": "code",
   "execution_count": 3,
   "metadata": {},
   "outputs": [
    {
     "name": "stdout",
     "output_type": "stream",
     "text": [
      "SparsePauliOp(['IIIIIZZIIIII'],\n",
      "              coeffs=[1.+0.j])\n"
     ]
    }
   ],
   "source": [
    "observable = SparsePauliOp.from_sparse_list(\n",
    "    [(\"ZZ\", (L//2 - 1, L//2), 1.0)], num_qubits=L\n",
    ")\n",
    "print(observable)"
   ]
  },
  {
   "cell_type": "markdown",
   "metadata": {},
   "source": [
    "### 1c: Construct a Trotter circuit\n",
    "We can use the `generate_time_evolution_circuit` function which is built on top of qiskit's `PauliEvolutionGate` to construct our trotter circuit"
   ]
  },
  {
   "cell_type": "code",
   "execution_count": 4,
   "metadata": {},
   "outputs": [],
   "source": [
    "from qiskit import QuantumCircuit\n",
    "from qiskit.synthesis import LieTrotter\n",
    "from qiskit_addon_utils.problem_generators import generate_time_evolution_circuit\n",
    "\n",
    "total_time = 0.6\n",
    "num_steps = 7\n",
    "\n",
    "# Generate an initial state\n",
    "initial_state = QuantumCircuit(L)\n",
    "for i in range(L):\n",
    "    if i%2:\n",
    "        initial_state.x(i)\n",
    "\n",
    "trotter_circuit = initial_state.compose(\n",
    "    generate_time_evolution_circuit(\n",
    "        hamiltonian,\n",
    "        time=total_time,\n",
    "        synthesis=LieTrotter(reps=num_steps),\n",
    "    ) \n",
    ")\n",
    "\n",
    "fig = trotter_circuit.draw(\"mpl\", fold = -1, scale = 0.2)"
   ]
  },
  {
   "cell_type": "markdown",
   "metadata": {},
   "source": [
    "## Step 2: Optimize the problem\n",
    "\n",
    "For the noiseless simulations we won't need to transpile, but for the hardware expeirments we will. Let's go ahead and transpile our PUBs"
   ]
  },
  {
   "cell_type": "markdown",
   "metadata": {},
   "source": [
    "#### Create PUBs (Primitives Unified Blocs) which specify our experiment"
   ]
  },
  {
   "cell_type": "code",
   "execution_count": 5,
   "metadata": {
    "scrolled": true
   },
   "outputs": [],
   "source": [
    "pub_circuits    = [trotter_circuit]\n",
    "pub_observables = [observable]\n",
    "pubs = list(zip(pub_circuits, pub_observables))"
   ]
  },
  {
   "cell_type": "markdown",
   "metadata": {},
   "source": [
    "### Transpile PUBs (circuits and observables) to match the backend ISA (Instruction Set Architecture)\n",
    "By selecting `optimization_level=3`, the transpiler will choose a 1D chain of qubits which minimizes the noise affecting our circuit. Once we have converted our circuits into the format that the backend is prepared to accept, we will apply a complimentary transformation to our observables as well. "
   ]
  },
  {
   "cell_type": "code",
   "execution_count": 6,
   "metadata": {},
   "outputs": [
    {
     "ename": "InvalidAccountError",
     "evalue": "'Invalid `instance` value. Expected hub/group/project format, got ...'",
     "output_type": "error",
     "traceback": [
      "\u001b[0;31m---------------------------------------------------------------------------\u001b[0m",
      "\u001b[0;31mValueError\u001b[0m                                Traceback (most recent call last)",
      "File \u001b[0;32m~/anaconda3/envs/qw_24/lib/python3.11/site-packages/qiskit_ibm_runtime/utils/hgp.py:32\u001b[0m, in \u001b[0;36mfrom_instance_format\u001b[0;34m(instance)\u001b[0m\n\u001b[1;32m     31\u001b[0m \u001b[38;5;28;01mtry\u001b[39;00m:\n\u001b[0;32m---> 32\u001b[0m     hub, group, project \u001b[38;5;241m=\u001b[39m instance\u001b[38;5;241m.\u001b[39msplit(\u001b[38;5;124m\"\u001b[39m\u001b[38;5;124m/\u001b[39m\u001b[38;5;124m\"\u001b[39m)\n\u001b[1;32m     33\u001b[0m     \u001b[38;5;28;01mreturn\u001b[39;00m hub, group, project\n",
      "\u001b[0;31mValueError\u001b[0m: not enough values to unpack (expected 3, got 1)",
      "\nDuring handling of the above exception, another exception occurred:\n",
      "\u001b[0;31mIBMInputValueError\u001b[0m                        Traceback (most recent call last)",
      "File \u001b[0;32m~/anaconda3/envs/qw_24/lib/python3.11/site-packages/qiskit_ibm_runtime/accounts/account.py:258\u001b[0m, in \u001b[0;36mQuantumAccount._assert_valid_instance\u001b[0;34m(instance)\u001b[0m\n\u001b[1;32m    257\u001b[0m \u001b[38;5;28;01mtry\u001b[39;00m:\n\u001b[0;32m--> 258\u001b[0m     \u001b[43mfrom_instance_format\u001b[49m\u001b[43m(\u001b[49m\u001b[43minstance\u001b[49m\u001b[43m)\u001b[49m\n\u001b[1;32m    259\u001b[0m \u001b[38;5;28;01mexcept\u001b[39;00m:\n",
      "File \u001b[0;32m~/anaconda3/envs/qw_24/lib/python3.11/site-packages/qiskit_ibm_runtime/utils/hgp.py:35\u001b[0m, in \u001b[0;36mfrom_instance_format\u001b[0;34m(instance)\u001b[0m\n\u001b[1;32m     34\u001b[0m \u001b[38;5;28;01mexcept\u001b[39;00m (\u001b[38;5;167;01mValueError\u001b[39;00m, \u001b[38;5;167;01mAttributeError\u001b[39;00m):\n\u001b[0;32m---> 35\u001b[0m     \u001b[38;5;28;01mraise\u001b[39;00m IBMInputValueError(\n\u001b[1;32m     36\u001b[0m         \u001b[38;5;124mf\u001b[39m\u001b[38;5;124m\"\u001b[39m\u001b[38;5;124mInput instance value \u001b[39m\u001b[38;5;132;01m{\u001b[39;00minstance\u001b[38;5;132;01m}\u001b[39;00m\u001b[38;5;124m is not in the\u001b[39m\u001b[38;5;124m\"\u001b[39m \u001b[38;5;124mf\u001b[39m\u001b[38;5;124m\"\u001b[39m\u001b[38;5;124mcorrect hub/group/project format.\u001b[39m\u001b[38;5;124m\"\u001b[39m\n\u001b[1;32m     37\u001b[0m     )\n",
      "\u001b[0;31mIBMInputValueError\u001b[0m: 'Input instance value ... is not in thecorrect hub/group/project format.'",
      "\nDuring handling of the above exception, another exception occurred:\n",
      "\u001b[0;31mInvalidAccountError\u001b[0m                       Traceback (most recent call last)",
      "Cell \u001b[0;32mIn[6], line 5\u001b[0m\n\u001b[1;32m      2\u001b[0m \u001b[38;5;28;01mfrom\u001b[39;00m \u001b[38;5;21;01mqiskit\u001b[39;00m\u001b[38;5;21;01m.\u001b[39;00m\u001b[38;5;21;01mtranspiler\u001b[39;00m\u001b[38;5;21;01m.\u001b[39;00m\u001b[38;5;21;01mpreset_passmanagers\u001b[39;00m \u001b[38;5;28;01mimport\u001b[39;00m generate_preset_pass_manager\n\u001b[1;32m      4\u001b[0m \u001b[38;5;66;03m# need to create a service that's not local\u001b[39;00m\n\u001b[0;32m----> 5\u001b[0m service \u001b[38;5;241m=\u001b[39m \u001b[43mQiskitRuntimeService\u001b[49m\u001b[43m(\u001b[49m\u001b[43mchannel\u001b[49m\u001b[38;5;241;43m=\u001b[39;49m\u001b[38;5;124;43m\"\u001b[39;49m\u001b[38;5;124;43mibm_quantum\u001b[39;49m\u001b[38;5;124;43m\"\u001b[39;49m\u001b[43m,\u001b[49m\u001b[43m \u001b[49m\u001b[43minstance\u001b[49m\u001b[38;5;241;43m=\u001b[39;49m\u001b[38;5;124;43m'\u001b[39;49m\u001b[38;5;124;43m...\u001b[39;49m\u001b[38;5;124;43m'\u001b[39;49m\u001b[43m)\u001b[49m\n\u001b[1;32m      6\u001b[0m backend \u001b[38;5;241m=\u001b[39m service\u001b[38;5;241m.\u001b[39mbackend(\u001b[38;5;124m\"\u001b[39m\u001b[38;5;124mibm_torino\u001b[39m\u001b[38;5;124m\"\u001b[39m)\n\u001b[1;32m      7\u001b[0m estimator \u001b[38;5;241m=\u001b[39m Estimator(backend, options \u001b[38;5;241m=\u001b[39m estimator_options)\n",
      "File \u001b[0;32m~/anaconda3/envs/qw_24/lib/python3.11/site-packages/qiskit_ibm_runtime/qiskit_runtime_service.py:129\u001b[0m, in \u001b[0;36mQiskitRuntimeService.__init__\u001b[0;34m(self, channel, token, url, filename, name, instance, proxies, verify, channel_strategy, private_endpoint)\u001b[0m\n\u001b[1;32m     82\u001b[0m \u001b[38;5;250m\u001b[39m\u001b[38;5;124;03m\"\"\"QiskitRuntimeService constructor\u001b[39;00m\n\u001b[1;32m     83\u001b[0m \n\u001b[1;32m     84\u001b[0m \u001b[38;5;124;03mAn account is selected in the following order:\u001b[39;00m\n\u001b[0;32m   (...)\u001b[0m\n\u001b[1;32m    125\u001b[0m \u001b[38;5;124;03m    IBMInputValueError: If an input is invalid.\u001b[39;00m\n\u001b[1;32m    126\u001b[0m \u001b[38;5;124;03m\"\"\"\u001b[39;00m\n\u001b[1;32m    127\u001b[0m \u001b[38;5;28msuper\u001b[39m()\u001b[38;5;241m.\u001b[39m\u001b[38;5;21m__init__\u001b[39m()\n\u001b[0;32m--> 129\u001b[0m \u001b[38;5;28mself\u001b[39m\u001b[38;5;241m.\u001b[39m_account \u001b[38;5;241m=\u001b[39m \u001b[38;5;28;43mself\u001b[39;49m\u001b[38;5;241;43m.\u001b[39;49m\u001b[43m_discover_account\u001b[49m\u001b[43m(\u001b[49m\n\u001b[1;32m    130\u001b[0m \u001b[43m    \u001b[49m\u001b[43mtoken\u001b[49m\u001b[38;5;241;43m=\u001b[39;49m\u001b[43mtoken\u001b[49m\u001b[43m,\u001b[49m\n\u001b[1;32m    131\u001b[0m \u001b[43m    \u001b[49m\u001b[43murl\u001b[49m\u001b[38;5;241;43m=\u001b[39;49m\u001b[43murl\u001b[49m\u001b[43m,\u001b[49m\n\u001b[1;32m    132\u001b[0m \u001b[43m    \u001b[49m\u001b[43minstance\u001b[49m\u001b[38;5;241;43m=\u001b[39;49m\u001b[43minstance\u001b[49m\u001b[43m,\u001b[49m\n\u001b[1;32m    133\u001b[0m \u001b[43m    \u001b[49m\u001b[43mchannel\u001b[49m\u001b[38;5;241;43m=\u001b[39;49m\u001b[43mchannel\u001b[49m\u001b[43m,\u001b[49m\n\u001b[1;32m    134\u001b[0m \u001b[43m    \u001b[49m\u001b[43mfilename\u001b[49m\u001b[38;5;241;43m=\u001b[39;49m\u001b[43mfilename\u001b[49m\u001b[43m,\u001b[49m\n\u001b[1;32m    135\u001b[0m \u001b[43m    \u001b[49m\u001b[43mname\u001b[49m\u001b[38;5;241;43m=\u001b[39;49m\u001b[43mname\u001b[49m\u001b[43m,\u001b[49m\n\u001b[1;32m    136\u001b[0m \u001b[43m    \u001b[49m\u001b[43mproxies\u001b[49m\u001b[38;5;241;43m=\u001b[39;49m\u001b[43mProxyConfiguration\u001b[49m\u001b[43m(\u001b[49m\u001b[38;5;241;43m*\u001b[39;49m\u001b[38;5;241;43m*\u001b[39;49m\u001b[43mproxies\u001b[49m\u001b[43m)\u001b[49m\u001b[43m \u001b[49m\u001b[38;5;28;43;01mif\u001b[39;49;00m\u001b[43m \u001b[49m\u001b[43mproxies\u001b[49m\u001b[43m \u001b[49m\u001b[38;5;28;43;01melse\u001b[39;49;00m\u001b[43m \u001b[49m\u001b[38;5;28;43;01mNone\u001b[39;49;00m\u001b[43m,\u001b[49m\n\u001b[1;32m    137\u001b[0m \u001b[43m    \u001b[49m\u001b[43mverify\u001b[49m\u001b[38;5;241;43m=\u001b[39;49m\u001b[43mverify\u001b[49m\u001b[43m,\u001b[49m\n\u001b[1;32m    138\u001b[0m \u001b[43m    \u001b[49m\u001b[43mchannel_strategy\u001b[49m\u001b[38;5;241;43m=\u001b[39;49m\u001b[43mchannel_strategy\u001b[49m\u001b[43m,\u001b[49m\n\u001b[1;32m    139\u001b[0m \u001b[43m\u001b[49m\u001b[43m)\u001b[49m\n\u001b[1;32m    141\u001b[0m \u001b[38;5;28;01mif\u001b[39;00m private_endpoint \u001b[38;5;129;01mis\u001b[39;00m \u001b[38;5;129;01mnot\u001b[39;00m \u001b[38;5;28;01mNone\u001b[39;00m:\n\u001b[1;32m    142\u001b[0m     \u001b[38;5;28mself\u001b[39m\u001b[38;5;241m.\u001b[39m_account\u001b[38;5;241m.\u001b[39mprivate_endpoint \u001b[38;5;241m=\u001b[39m private_endpoint\n",
      "File \u001b[0;32m~/anaconda3/envs/qw_24/lib/python3.11/site-packages/qiskit_ibm_runtime/qiskit_runtime_service.py:263\u001b[0m, in \u001b[0;36mQiskitRuntimeService._discover_account\u001b[0;34m(self, token, url, instance, channel, filename, name, proxies, verify, channel_strategy)\u001b[0m\n\u001b[1;32m    260\u001b[0m \u001b[38;5;28mself\u001b[39m\u001b[38;5;241m.\u001b[39m_resolve_crn(account)\n\u001b[1;32m    262\u001b[0m \u001b[38;5;66;03m# ensure account is valid, fail early if not\u001b[39;00m\n\u001b[0;32m--> 263\u001b[0m \u001b[43maccount\u001b[49m\u001b[38;5;241;43m.\u001b[39;49m\u001b[43mvalidate\u001b[49m\u001b[43m(\u001b[49m\u001b[43m)\u001b[49m\n\u001b[1;32m    265\u001b[0m \u001b[38;5;28;01mreturn\u001b[39;00m account\n",
      "File \u001b[0;32m~/anaconda3/envs/qw_24/lib/python3.11/site-packages/qiskit_ibm_runtime/accounts/account.py:168\u001b[0m, in \u001b[0;36mAccount.validate\u001b[0;34m(self)\u001b[0m\n\u001b[1;32m    166\u001b[0m \u001b[38;5;28mself\u001b[39m\u001b[38;5;241m.\u001b[39m_assert_valid_token(\u001b[38;5;28mself\u001b[39m\u001b[38;5;241m.\u001b[39mtoken)\n\u001b[1;32m    167\u001b[0m \u001b[38;5;28mself\u001b[39m\u001b[38;5;241m.\u001b[39m_assert_valid_url(\u001b[38;5;28mself\u001b[39m\u001b[38;5;241m.\u001b[39murl)\n\u001b[0;32m--> 168\u001b[0m \u001b[38;5;28;43mself\u001b[39;49m\u001b[38;5;241;43m.\u001b[39;49m\u001b[43m_assert_valid_instance\u001b[49m\u001b[43m(\u001b[49m\u001b[38;5;28;43mself\u001b[39;49m\u001b[38;5;241;43m.\u001b[39;49m\u001b[43minstance\u001b[49m\u001b[43m)\u001b[49m\n\u001b[1;32m    169\u001b[0m \u001b[38;5;28mself\u001b[39m\u001b[38;5;241m.\u001b[39m_assert_valid_proxies(\u001b[38;5;28mself\u001b[39m\u001b[38;5;241m.\u001b[39mproxies)\n\u001b[1;32m    170\u001b[0m \u001b[38;5;28mself\u001b[39m\u001b[38;5;241m.\u001b[39m_assert_valid_channel_strategy(\u001b[38;5;28mself\u001b[39m\u001b[38;5;241m.\u001b[39mchannel_strategy)\n",
      "File \u001b[0;32m~/anaconda3/envs/qw_24/lib/python3.11/site-packages/qiskit_ibm_runtime/accounts/account.py:260\u001b[0m, in \u001b[0;36mQuantumAccount._assert_valid_instance\u001b[0;34m(instance)\u001b[0m\n\u001b[1;32m    258\u001b[0m     from_instance_format(instance)\n\u001b[1;32m    259\u001b[0m \u001b[38;5;28;01mexcept\u001b[39;00m:\n\u001b[0;32m--> 260\u001b[0m     \u001b[38;5;28;01mraise\u001b[39;00m InvalidAccountError(\n\u001b[1;32m    261\u001b[0m         \u001b[38;5;124mf\u001b[39m\u001b[38;5;124m\"\u001b[39m\u001b[38;5;124mInvalid `instance` value. Expected hub/group/project format, got \u001b[39m\u001b[38;5;132;01m{\u001b[39;00minstance\u001b[38;5;132;01m}\u001b[39;00m\u001b[38;5;124m\"\u001b[39m\n\u001b[1;32m    262\u001b[0m     )\n",
      "\u001b[0;31mInvalidAccountError\u001b[0m: 'Invalid `instance` value. Expected hub/group/project format, got ...'"
     ]
    }
   ],
   "source": [
    "from qiskit_ibm_runtime import QiskitRuntimeService, Estimator\n",
    "from qiskit.transpiler.preset_passmanagers import generate_preset_pass_manager\n",
    "\n",
    "# need to create a service that's not local\n",
    "service = QiskitRuntimeService(channel=\"ibm_quantum\", instance='...')\n",
    "backend = service.backend(\"ibm_torino\")\n",
    "estimator = Estimator(backend, options = estimator_options)\n",
    "\n",
    "# Transpile pubs (circuits and observables) to match ISA\n",
    "pass_manager = generate_preset_pass_manager(backend=backend, optimization_level=3)\n",
    "isa_circuits = [pass_manager.run(circuit) for circuit in pub_circuits]\n",
    "isa_observables = [obs.apply_layout(isa_circuit.layout) \n",
    "                                if isinstance(obs, SparsePauliOp) \n",
    "                                else [sub_obs.apply_layout(isa_circuit.layout) for sub_obs in obs]\n",
    "                                for (isa_circuit, obs) in zip(isa_circuits, pub_observables)]\n",
    "isa_pubs = zip(isa_circuits, isa_observables)\n"
   ]
  },
  {
   "cell_type": "markdown",
   "metadata": {},
   "source": [
    "## Step 3: Execute quantum experiments using `AerSimulator` backend\n",
    "\n",
    "We can simulate our various Trotter circuits, including the back-propagated one using the ``Estimator`` primitive from ``qiskit-ibm-runtime`` and we will compare the results we get with a Trotter circuit of 100 steps. \n",
    "These simulations do not have any sources of noise apart from statistical uncertainty due to drawing finitely many shots."
   ]
  },
  {
   "cell_type": "markdown",
   "metadata": {},
   "source": [
    "### Noiseless local simulation"
   ]
  },
  {
   "cell_type": "code",
   "execution_count": null,
   "metadata": {},
   "outputs": [],
   "source": [
    "# Import Qiskit Runtime service and Estimator\n",
    "# V2 is the default version in qiskit-ibm-runtime>=0.28.0, no need to import EstimatorV2 as Estimator\n",
    "from qiskit_ibm_runtime import QiskitRuntimeService, Estimator\n",
    "\n",
    "num_shots = 2**20\n",
    "\n",
    "# Instantiate a local Estimator using a Simulator\n",
    "local_service = QiskitRuntimeService(channel=\"local\")\n",
    "simulator = local_service.backend(\"aer_simulator\")\n",
    "simulator_estimator = Estimator(simulator)\n",
    "\n",
    "# Simulate experiments, retrieve epxectation values\n",
    "noiseless_result = simulator_estimator.run(pubs, precision=1/np.sqrt(num_shots)).result()\n",
    "noiseless_expval = [pub_result.data.evs.tolist() for pub_result in noiseless_result]\n"
   ]
  },
  {
   "cell_type": "code",
   "execution_count": null,
   "metadata": {},
   "outputs": [],
   "source": [
    "print(f\"Expectation Value: {noiseless_expval[0]:3f}\")"
   ]
  },
  {
   "cell_type": "code",
   "execution_count": null,
   "metadata": {},
   "outputs": [],
   "source": []
  }
 ],
 "metadata": {
  "kernelspec": {
   "display_name": "Python 3 (ipykernel)",
   "language": "python",
   "name": "python3"
  },
  "language_info": {
   "codemirror_mode": {
    "name": "ipython",
    "version": 3
   },
   "file_extension": ".py",
   "mimetype": "text/x-python",
   "name": "python",
   "nbconvert_exporter": "python",
   "pygments_lexer": "ipython3",
   "version": "3.11.8"
  }
 },
 "nbformat": 4,
 "nbformat_minor": 4
}
